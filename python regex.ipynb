{
 "cells": [
  {
   "cell_type": "markdown",
   "metadata": {},
   "source": [
    "### What are regular  Expressions\n",
    "A regular expression (sometimes called a rational expression) is a sequence of characters that define a search pattern, mainly for use in pattern matching with strings, or string matching, i.e. “find and replace”-like operations.(Wikipedia).<br>\n",
    "\n",
    "Regular expressions are a generalized way to match patterns with sequences of characters. It is used in every programming language like C++, Java and Python. \n",
    "\n",
    "docs - https://docs.python.org/3/library/re.html"
   ]
  },
  {
   "cell_type": "code",
   "execution_count": null,
   "metadata": {},
   "outputs": [],
   "source": [
    "# 1 - cmd - pip install pandas\n",
    "# 2 - pycharm - pip install pandas\n",
    "# 3 - virtual env - pip install pandas\n",
    "# 4 - jupyter notebook - !pip install pandas"
   ]
  },
  {
   "cell_type": "code",
   "execution_count": 4,
   "metadata": {},
   "outputs": [],
   "source": [
    "#pip list\n",
    "#!pip freeze"
   ]
  },
  {
   "cell_type": "markdown",
   "metadata": {},
   "source": [
    "### How to install regex library in python\n",
    "\n",
    "pip install re"
   ]
  },
  {
   "cell_type": "markdown",
   "metadata": {},
   "source": [
    "### import regex library\n",
    "\n",
    "import re"
   ]
  },
  {
   "cell_type": "code",
   "execution_count": 9,
   "metadata": {},
   "outputs": [],
   "source": [
    "# different ways for importing libraries\n",
    "import re\n",
    "# import re as r\n",
    "# from re import *\n",
    "# from re import findall"
   ]
  },
  {
   "cell_type": "markdown",
   "metadata": {},
   "source": [
    "### Regex Meta Characters \n",
    "\\     Used to drop the special meaning of character\n",
    "      following it <br>\n",
    "[]    Represent a character class <br>\n",
    "^     Matches the beginning <br>\n",
    "$     Matches the end <br>\n",
    ".     Matches any character except newline <br>\n",
    "?     Matches zero or one occurrence. <br>\n",
    "|     Means OR (Matches with any of the characters separated by it. <br>\n",
    "\\*    Any number of occurrences (including 0 occurrences) <br>\n",
    "\\+    One or more occurrences <br>\n",
    "{}    Indicate number of occurrences of a preceding RE \n",
    "     to match. <br>\n",
    "()    Enclose a group of REs\n"
   ]
  },
  {
   "cell_type": "markdown",
   "metadata": {},
   "source": [
    "### for decimals  and Letters \n",
    "\\d   Matches any decimal digit, this is equivalent\n",
    "     to the set class [0-9].<br>\n",
    "\\D   Matches any non-digit character.<br>\n",
    "\\s   Matches any whitespace character.<br>\n",
    "\\S   Matches any non-whitespace character<br>\n",
    "\\w   Matches any alphanumeric character, this is\n",
    "     equivalent to the class [a-zA-Z0-9_].<br>\n",
    "\\W   Matches any non-alphanumeric character.<br> "
   ]
  },
  {
   "cell_type": "markdown",
   "metadata": {},
   "source": [
    "### Functions in re\n"
   ]
  },
  {
   "cell_type": "code",
   "execution_count": null,
   "metadata": {},
   "outputs": [],
   "source": [
    "# compile\n",
    "# match\n",
    "# search\n",
    "# findall\n",
    "# finditer\n",
    "# sub\n",
    "# subn"
   ]
  },
  {
   "cell_type": "markdown",
   "metadata": {},
   "source": [
    "#### re.match()\n",
    "- Here, we used re.match() function to search pattern within the test_string. The method returns a match object if the search is successful. If not, it returns None."
   ]
  },
  {
   "cell_type": "code",
   "execution_count": 10,
   "metadata": {},
   "outputs": [
    {
     "name": "stdout",
     "output_type": "stream",
     "text": [
      "None\n"
     ]
    }
   ],
   "source": [
    "string = 'String'\n",
    "pattern = '^S...g$'\n",
    "\n",
    "result = re.match(pattern, string) \n",
    "print(result)"
   ]
  },
  {
   "cell_type": "markdown",
   "metadata": {},
   "source": [
    "#### re.findall() \n",
    "- returns a list of strings containing all matches. <br>\n",
    "- If the pattern is not found, re.findall() returns an empty list."
   ]
  },
  {
   "cell_type": "code",
   "execution_count": 21,
   "metadata": {},
   "outputs": [
    {
     "name": "stdout",
     "output_type": "stream",
     "text": [
      "['123', '245256']\n"
     ]
    }
   ],
   "source": [
    "#%%timeit\n",
    "string = 'This is string 123 and 245256 this is number'\n",
    "pattern = '\\d+'\n",
    "\n",
    "result = re.findall(pattern, string) \n",
    "print(result)"
   ]
  },
  {
   "cell_type": "code",
   "execution_count": 20,
   "metadata": {},
   "outputs": [
    {
     "name": "stdout",
     "output_type": "stream",
     "text": [
      "['123', '245256']\n"
     ]
    }
   ],
   "source": [
    "#%%timeit\n",
    "string = 'This is string 123 and 245256 this is number'\n",
    "pattern = re.compile('\\d+')\n",
    "\n",
    "result = re.findall(pattern, string) \n",
    "print(result)"
   ]
  },
  {
   "cell_type": "markdown",
   "metadata": {},
   "source": [
    "#### re.split()\n",
    "- The re.split method splits the string where there is a match and returns a list of strings where the splits have occurred.\n",
    "\n",
    "- If the pattern is not found, re.split() returns a list containing the original string.\n",
    "\n",
    "- You can pass maxsplit argument to the re.split() method. It's the maximum number of splits that will occur.\n",
    "\n",
    "- By the way, the default value of maxsplit is 0; meaning all possible splits.\n"
   ]
  },
  {
   "cell_type": "code",
   "execution_count": 16,
   "metadata": {},
   "outputs": [
    {
     "data": {
      "text/plain": [
       "['This is string 123 and this 456 is string']"
      ]
     },
     "execution_count": 16,
     "metadata": {},
     "output_type": "execute_result"
    }
   ],
   "source": [
    "# split function in string\n",
    "s = 'This is string 123 and this 456 is string'\n",
    "s.split('\\d+')"
   ]
  },
  {
   "cell_type": "code",
   "execution_count": 24,
   "metadata": {},
   "outputs": [
    {
     "name": "stdout",
     "output_type": "stream",
     "text": [
      "['This is string ', ' and this ', ' is string']\n",
      "['This is string ', ' and this 123 is string']\n"
     ]
    }
   ],
   "source": [
    "string = 'This is string 123 and this 123 is string'\n",
    "pattern = '[0-9]+'\n",
    "\n",
    "result1 = re.split(pattern, string) \n",
    "print(result1)\n",
    "\n",
    "maxsplit = 1\n",
    "\n",
    "result2 = re.split(pattern, string, maxsplit) \n",
    "print(result2)\n"
   ]
  },
  {
   "cell_type": "code",
   "execution_count": 26,
   "metadata": {},
   "outputs": [
    {
     "name": "stdout",
     "output_type": "stream",
     "text": [
      "['This is string ', ' and this ', ' is string']\n",
      "['This is string ', ' and this 123 is string']\n"
     ]
    }
   ],
   "source": [
    "string = 'This is string 123 and this 123 is string'\n",
    "pattern = '\\d+'\n",
    "\n",
    "result1 = re.split(pattern, string) \n",
    "print(result1)\n",
    "\n",
    "maxsplit = 1\n",
    "\n",
    "result2 = re.split(pattern, string, maxsplit) \n",
    "print(result2)"
   ]
  },
  {
   "cell_type": "code",
   "execution_count": 25,
   "metadata": {},
   "outputs": [
    {
     "name": "stdout",
     "output_type": "stream",
     "text": [
      "['This is string ', '', '', ' and this ', '', '', ' is string']\n",
      "['This is string ', '23 and this 123 is string']\n"
     ]
    }
   ],
   "source": [
    "string = 'This is string 123 and this 123 is string'\n",
    "pattern = '[0-9]'\n",
    "\n",
    "result1 = re.split(pattern, string) \n",
    "print(result1)\n",
    "\n",
    "maxsplit = 1\n",
    "\n",
    "result2 = re.split(pattern, string, maxsplit) \n",
    "print(result2)"
   ]
  },
  {
   "cell_type": "markdown",
   "metadata": {},
   "source": [
    "#### re.sub\n",
    "- syntax - re.sub(pattern, replace, string)\n",
    "- The method returns a string where matched occurrences are replaced with the content of replace variable.\n",
    "- If the pattern is not found, re.sub() returns the original string.\n",
    "- You can pass count as a fourth parameter to the re.sub() method. If omited, it results to 0. This will replace all occurrences."
   ]
  },
  {
   "cell_type": "code",
   "execution_count": 28,
   "metadata": {},
   "outputs": [
    {
     "name": "stdout",
     "output_type": "stream",
     "text": [
      "This is string 456 and this 456 is string\n",
      "This is string 456 and this 123 is string\n"
     ]
    }
   ],
   "source": [
    "string = 'This is string 123 and this 123 is string'\n",
    "pattern = '\\d+'\n",
    "replace = '456'\n",
    "\n",
    "result1 = re.sub(pattern, replace, string) \n",
    "print(result1)\n",
    "\n",
    "cnt = 1\n",
    "\n",
    "result2 = re.sub(pattern, replace, string, cnt) \n",
    "print(result2)"
   ]
  },
  {
   "cell_type": "code",
   "execution_count": 27,
   "metadata": {},
   "outputs": [
    {
     "name": "stdout",
     "output_type": "stream",
     "text": [
      "This is string and this is string\n",
      "This is string and this is string\n"
     ]
    }
   ],
   "source": [
    "string = 'This is string and this is string'\n",
    "pattern = '\\d+'\n",
    "replace = '456'\n",
    "\n",
    "result1 = re.sub(pattern, replace, string) \n",
    "print(result1)\n",
    "\n",
    "cnt = 1\n",
    "\n",
    "result2 = re.sub(pattern, replace, string, cnt) \n",
    "print(result2)"
   ]
  },
  {
   "cell_type": "markdown",
   "metadata": {},
   "source": [
    "#### re.subn()\n",
    "- The re.subn() is similar to re.sub() expect it returns a tuple of 2 items containing the new string and the number of substitutions made."
   ]
  },
  {
   "cell_type": "code",
   "execution_count": 29,
   "metadata": {},
   "outputs": [
    {
     "name": "stdout",
     "output_type": "stream",
     "text": [
      "('This is string 456 and this 456 is string', 2)\n",
      "('This is string 456 and this 123 is string', 1)\n"
     ]
    }
   ],
   "source": [
    "string = 'This is string 123 and this 123 is string'\n",
    "pattern = '\\d+'\n",
    "replace = '456'\n",
    "\n",
    "result1 = re.subn(pattern, replace, string) \n",
    "print(result1)\n",
    "\n",
    "cnt = 1\n",
    "\n",
    "result2 = re.subn(pattern, replace, string, cnt) \n",
    "print(result2)"
   ]
  },
  {
   "cell_type": "markdown",
   "metadata": {},
   "source": [
    "#### re.search()\n",
    "- The re.search() method takes two arguments: a pattern and a string. The method looks for the first location where the RegEx pattern produces a match with the string.\n",
    "- If the search is successful, re.search() returns a match object; if not, it returns None.\n",
    "- match = re.search(pattern, str)"
   ]
  },
  {
   "cell_type": "code",
   "execution_count": 28,
   "metadata": {},
   "outputs": [
    {
     "name": "stdout",
     "output_type": "stream",
     "text": [
      "<re.Match object; span=(15, 18), match='123'>\n",
      "(15, 18)\n",
      "15\n",
      "18\n",
      "123\n",
      "re.compile('\\\\d+')\n",
      "This is string 123 this is 1234\n"
     ]
    }
   ],
   "source": [
    "string = 'This is string 123 this is 1234'\n",
    "pattern = '\\d+'\n",
    "\n",
    "result = re.search(pattern, string) \n",
    "print(result)\n",
    "print(result.span())\n",
    "print(result.start())\n",
    "print(result.end())\n",
    "print(result.group())\n",
    "print(result.re)\n",
    "print(result.string)"
   ]
  },
  {
   "cell_type": "code",
   "execution_count": 40,
   "metadata": {},
   "outputs": [],
   "source": [
    "string = 'technovative india, workshop'\n",
    "pattern = '(\\w+) ([a-z]+)'\n",
    "result = re.search(pattern, string) "
   ]
  },
  {
   "cell_type": "code",
   "execution_count": 42,
   "metadata": {},
   "outputs": [
    {
     "name": "stdout",
     "output_type": "stream",
     "text": [
      "technovative india\n"
     ]
    }
   ],
   "source": [
    "print(result.group(0))"
   ]
  },
  {
   "cell_type": "markdown",
   "metadata": {},
   "source": [
    "#### Raw string using r prefix\n",
    "\n",
    "When r or R prefix is used before a regular expression, it means raw string. For example, '\\n' is a new line whereas r'\\n' means two characters: a backslash \\ followed by n.\n",
    "\n",
    "Backlash \\ is used to escape various characters including all metacharacters. However, using r prefix makes \\ treat as a normal character."
   ]
  },
  {
   "cell_type": "code",
   "execution_count": 46,
   "metadata": {},
   "outputs": [
    {
     "name": "stdout",
     "output_type": "stream",
     "text": [
      "['\\n', '\\r']\n"
     ]
    }
   ],
   "source": [
    "import re\n",
    "\n",
    "string = '\\n and \\r are escape sequences.'\n",
    "\n",
    "result = re.findall(r'[\\n\\r]', string) \n",
    "print(result)"
   ]
  },
  {
   "cell_type": "code",
   "execution_count": 43,
   "metadata": {},
   "outputs": [],
   "source": [
    "with open('/Users/aniketbhalerao/Desktop/test.txt', 'r') as fp:\n",
    "    data = fp.readlines()"
   ]
  },
  {
   "cell_type": "code",
   "execution_count": 44,
   "metadata": {},
   "outputs": [
    {
     "data": {
      "text/plain": [
       "['This is 1st line\\n', 'This is second line']"
      ]
     },
     "execution_count": 44,
     "metadata": {},
     "output_type": "execute_result"
    }
   ],
   "source": [
    "data"
   ]
  },
  {
   "cell_type": "code",
   "execution_count": 54,
   "metadata": {},
   "outputs": [],
   "source": [
    "s = 'gooooooooooooood'\n",
    "pattern = re.compile('^go*d$')\n",
    "match = re.findall(pattern, s)"
   ]
  },
  {
   "cell_type": "code",
   "execution_count": 56,
   "metadata": {},
   "outputs": [],
   "source": [
    "s = 'gooooooooooooood 123456 456 12'\n",
    "pattern = re.compile('[0-9]{3,4}')\n",
    "match = re.findall(pattern, s)"
   ]
  },
  {
   "cell_type": "code",
   "execution_count": 92,
   "metadata": {},
   "outputs": [],
   "source": [
    "s = '<p>This is string</p>'\n",
    "pattern = re.compile('\\<p>(.*)\\</p>')\n",
    "match = re.findall(pattern, s)"
   ]
  },
  {
   "cell_type": "code",
   "execution_count": 93,
   "metadata": {},
   "outputs": [
    {
     "data": {
      "text/plain": [
       "['This is string']"
      ]
     },
     "execution_count": 93,
     "metadata": {},
     "output_type": "execute_result"
    }
   ],
   "source": [
    "match"
   ]
  },
  {
   "cell_type": "markdown",
   "metadata": {},
   "source": [
    "#### re.finditer()"
   ]
  },
  {
   "cell_type": "code",
   "execution_count": null,
   "metadata": {},
   "outputs": [],
   "source": []
  }
 ],
 "metadata": {
  "kernelspec": {
   "display_name": "Python 3",
   "language": "python",
   "name": "python3"
  },
  "language_info": {
   "codemirror_mode": {
    "name": "ipython",
    "version": 3
   },
   "file_extension": ".py",
   "mimetype": "text/x-python",
   "name": "python",
   "nbconvert_exporter": "python",
   "pygments_lexer": "ipython3",
   "version": "3.8.5"
  }
 },
 "nbformat": 4,
 "nbformat_minor": 2
}
