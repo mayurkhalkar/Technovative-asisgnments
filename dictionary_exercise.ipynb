{
 "cells": [
  {
   "cell_type": "markdown",
   "metadata": {},
   "source": [
    "#### make an empty dictionary named practice_dict\n"
   ]
  },
  {
   "cell_type": "code",
   "execution_count": 2,
   "metadata": {},
   "outputs": [
    {
     "name": "stdout",
     "output_type": "stream",
     "text": [
      "{}\n"
     ]
    }
   ],
   "source": [
    "practice_dict = dict()\n",
    "print(practice_dict)"
   ]
  },
  {
   "cell_type": "markdown",
   "metadata": {},
   "source": [
    "#### add name of student with their marks in above dictionary"
   ]
  },
  {
   "cell_type": "code",
   "execution_count": 5,
   "metadata": {},
   "outputs": [
    {
     "name": "stdout",
     "output_type": "stream",
     "text": [
      "{'Mayurr': 60, 'Ashish': 61, 'Sanket': 62, 'nikhil': 63, 'Vishnu': 64, 'Nikita': 65}\n"
     ]
    }
   ],
   "source": [
    "practice_dict = {\"Mayurr\":60,\"Ashish\":61,\"Sanket\":62,\"nikhil\":63,'Vishnu':64,\"Nikita\":65}\n",
    "print(practice_dict)"
   ]
  },
  {
   "cell_type": "markdown",
   "metadata": {},
   "source": [
    "#### change the key name for one key in dictionary [example - {'mayurr' : 55} -----> {'mayur' : 55} ]"
   ]
  },
  {
   "cell_type": "code",
   "execution_count": 27,
   "metadata": {},
   "outputs": [
    {
     "name": "stdout",
     "output_type": "stream",
     "text": [
      "Before renaming Key's =  {'Ashish': 61, 'Sanket': 62, 'nikhil': 63, 'Nikita': 65}\n",
      "After rename Key's =  {'Sanket': 62, 'nikhil': 63, 'Nikita': 65, 'MAYUR': 61}\n"
     ]
    }
   ],
   "source": [
    "print(\"Before renaming Key's = \" ,practice_dict)\n",
    "practice_dict['MAYUR'] = practice_dict.pop('Ashish')\n",
    "print(\"After rename Key's = \" ,practice_dict)"
   ]
  },
  {
   "cell_type": "markdown",
   "metadata": {},
   "source": [
    "#### change key as a value and value as key in above dictionary. [example - {'mayur': 55} -----> {55: 'mayur'}"
   ]
  },
  {
   "cell_type": "code",
   "execution_count": 40,
   "metadata": {},
   "outputs": [
    {
     "name": "stdout",
     "output_type": "stream",
     "text": [
      "Original Dict : {'Mayurr': 60, 'Ashish': 61, 'Sanket': 62, 'nikhil': 63, 'Vishnu': 64, 'Nikita': 65}\n",
      "After Swapping Dict key value :\n",
      "{60: 'Mayurr'}\n",
      "{61: 'Ashish'}\n",
      "{62: 'Sanket'}\n",
      "{63: 'nikhil'}\n",
      "{64: 'Vishnu'}\n",
      "{65: 'Nikita'}\n"
     ]
    }
   ],
   "source": [
    "practice_dict = {\"Mayurr\":60,\"Ashish\":61,\"Sanket\":62,\"nikhil\":63,'Vishnu':64,\"Nikita\":65}     \n",
    "\n",
    "print(\"Original Dict :\",practice_dict)\n",
    "print('After Swapping Dict key value :')\n",
    "for key, value in practice_dict.items():\n",
    "    new_dict = dict([(value,key)])\n",
    "    print(new_dict)\n",
    "    "
   ]
  },
  {
   "cell_type": "markdown",
   "metadata": {},
   "source": [
    "#### ----------------------------------------------------------------------------------------------------------------------------------------------------------"
   ]
  },
  {
   "cell_type": "markdown",
   "metadata": {},
   "source": [
    "#### make a dictionary using two lists\n",
    "city_names = ['pune', 'mumbai', 'nashik', 'ahmednagar']<br>\n",
    "covid_counts = [12000, 22000, 9000, 3000]"
   ]
  },
  {
   "cell_type": "code",
   "execution_count": 53,
   "metadata": {},
   "outputs": [
    {
     "name": "stdout",
     "output_type": "stream",
     "text": [
      "{'pune': 12000, 'mumbai': 22000, 'nashik': 9000, 'ahmednagar': 3000}\n"
     ]
    }
   ],
   "source": [
    "city_names = ['pune', 'mumbai', 'nashik', 'ahmednagar']\n",
    "covid_counts = [12000, 22000, 9000, 3000]\n",
    "new_dict = dict(zip(city_names,covid_counts))\n",
    "print(new_dict)"
   ]
  },
  {
   "cell_type": "markdown",
   "metadata": {},
   "source": [
    "#### remove pune from above dictionary"
   ]
  },
  {
   "cell_type": "code",
   "execution_count": 54,
   "metadata": {},
   "outputs": [
    {
     "name": "stdout",
     "output_type": "stream",
     "text": [
      "Before Delete Pune :  {'pune': 12000, 'mumbai': 22000, 'nashik': 9000, 'ahmednagar': 3000}\n",
      "After Delete :  {'mumbai': 22000, 'nashik': 9000, 'ahmednagar': 3000}\n"
     ]
    }
   ],
   "source": [
    "\n",
    "print(\"Before Delete Pune : \",new_dict)\n",
    "a= new_dict.pop('pune')\n",
    "print(\"After Delete : \",new_dict)"
   ]
  },
  {
   "cell_type": "markdown",
   "metadata": {},
   "source": [
    "#### add delhi = 20000 in dictionary"
   ]
  },
  {
   "cell_type": "code",
   "execution_count": 57,
   "metadata": {},
   "outputs": [
    {
     "name": "stdout",
     "output_type": "stream",
     "text": [
      "{'mumbai': 22000, 'nashik': 9000, 'ahmednagar': 3000, 'Delhi': 20000}\n"
     ]
    }
   ],
   "source": [
    "new_dict['Delhi']=20000\n",
    "print(new_dict)"
   ]
  },
  {
   "cell_type": "markdown",
   "metadata": {},
   "source": [
    "#### print keys of dictionary"
   ]
  },
  {
   "cell_type": "code",
   "execution_count": 58,
   "metadata": {},
   "outputs": [
    {
     "name": "stdout",
     "output_type": "stream",
     "text": [
      "dict_keys(['mumbai', 'nashik', 'ahmednagar', 'Delhi'])\n"
     ]
    }
   ],
   "source": [
    "print(new_dict.keys())"
   ]
  },
  {
   "cell_type": "markdown",
   "metadata": {},
   "source": [
    "#### print values of dictionary"
   ]
  },
  {
   "cell_type": "code",
   "execution_count": 59,
   "metadata": {},
   "outputs": [
    {
     "name": "stdout",
     "output_type": "stream",
     "text": [
      "dict_values([22000, 9000, 3000, 20000])\n"
     ]
    }
   ],
   "source": [
    "print(new_dict.values())"
   ]
  },
  {
   "cell_type": "markdown",
   "metadata": {},
   "source": [
    "#### print items of dictionary"
   ]
  },
  {
   "cell_type": "code",
   "execution_count": 60,
   "metadata": {},
   "outputs": [
    {
     "name": "stdout",
     "output_type": "stream",
     "text": [
      "dict_items([('mumbai', 22000), ('nashik', 9000), ('ahmednagar', 3000), ('Delhi', 20000)])\n"
     ]
    }
   ],
   "source": [
    "print(new_dict.items())"
   ]
  },
  {
   "cell_type": "markdown",
   "metadata": {},
   "source": [
    "#### print 3rd item of dictionary"
   ]
  },
  {
   "cell_type": "code",
   "execution_count": 71,
   "metadata": {},
   "outputs": [
    {
     "name": "stdout",
     "output_type": "stream",
     "text": [
      "ahmednagar\n"
     ]
    }
   ],
   "source": [
    "print(list(new_dict)[2])"
   ]
  },
  {
   "cell_type": "markdown",
   "metadata": {},
   "source": [
    "#### ----------------------------------------------------------------------------------------------------------------------------------------------"
   ]
  },
  {
   "cell_type": "markdown",
   "metadata": {},
   "source": [
    "### perform operations on dictionary using all dictionary functions"
   ]
  },
  {
   "cell_type": "code",
   "execution_count": null,
   "metadata": {},
   "outputs": [],
   "source": []
  },
  {
   "cell_type": "markdown",
   "metadata": {},
   "source": [
    "####  Access the value of key ‘history’"
   ]
  },
  {
   "cell_type": "code",
   "execution_count": 90,
   "metadata": {},
   "outputs": [
    {
     "name": "stdout",
     "output_type": "stream",
     "text": [
      "{'class': {'student': {'name': 'nikita', 'marks': {'physics': 70, 'history': 80}}}}\n"
     ]
    }
   ],
   "source": [
    "sample_dict = { \n",
    "   \"class\":{ \n",
    "      \"student\":{ \n",
    "         \"name\":\"nikita\",\n",
    "         \"marks\":{ \n",
    "            \"physics\":70,\n",
    "            \"history\":80\n",
    "         }\n",
    "      }\n",
    "   }\n",
    "}\n",
    "print(sample_dict)\n",
    "\n"
   ]
  },
  {
   "cell_type": "code",
   "execution_count": 91,
   "metadata": {},
   "outputs": [
    {
     "name": "stdout",
     "output_type": "stream",
     "text": [
      "80\n"
     ]
    }
   ],
   "source": [
    "print(sample_dict['class']['student']['marks']['history'])"
   ]
  },
  {
   "cell_type": "markdown",
   "metadata": {},
   "source": [
    "#### Initialize dictionary with default values"
   ]
  },
  {
   "cell_type": "code",
   "execution_count": 98,
   "metadata": {},
   "outputs": [],
   "source": [
    "employees = ['mayur', 'aniket', 'John']\n",
    "defaults = {\"designation\": 'Application Developer', \"salary\": 80000}\n"
   ]
  },
  {
   "cell_type": "code",
   "execution_count": 100,
   "metadata": {},
   "outputs": [
    {
     "name": "stdout",
     "output_type": "stream",
     "text": [
      "{'mayur': {'designation': 'Application Developer', 'salary': 80000}, 'aniket': {'designation': 'Application Developer', 'salary': 80000}, 'John': {'designation': 'Application Developer', 'salary': 80000}}\n"
     ]
    }
   ],
   "source": [
    "d1 = dict.fromkeys(employees, defaults)\n",
    "print(d1)"
   ]
  },
  {
   "cell_type": "markdown",
   "metadata": {},
   "source": [
    "#### Create a new dictionary by extracting the following keys from a given dictionary"
   ]
  },
  {
   "cell_type": "code",
   "execution_count": 121,
   "metadata": {},
   "outputs": [
    {
     "name": "stdout",
     "output_type": "stream",
     "text": [
      "{'name': 'akshay', 'age': 22, 'salary': 80000, 'city': 'Ahmednagar'}\n"
     ]
    }
   ],
   "source": [
    "# Expected output - {'name': 'akshay', 'salary': 8000}\n",
    "sampleDict = {\n",
    "  \"name\": \"akshay\",\n",
    "  \"age\":22,\n",
    "  \"salary\": 80000,\n",
    "  \"city\": \"Ahmednagar\"\n",
    "  \n",
    "}\n",
    "keys = [\"name\", \"salary\"]\n",
    "print(sampleDict)"
   ]
  },
  {
   "cell_type": "code",
   "execution_count": 127,
   "metadata": {},
   "outputs": [
    {
     "name": "stdout",
     "output_type": "stream",
     "text": [
      "{'name': 'akshay'}\n",
      "{'salary': 80000}\n"
     ]
    }
   ],
   "source": [
    "for i in keys:\n",
    "    print({i:sampleDict[i]})"
   ]
  },
  {
   "cell_type": "markdown",
   "metadata": {},
   "source": [
    "#### Check if a value 200 exists in a dictionary\n",
    "expected output - True"
   ]
  },
  {
   "cell_type": "code",
   "execution_count": 128,
   "metadata": {},
   "outputs": [],
   "source": [
    "sampleDict = {'a': 100, 'b': 200, 'c': 300}"
   ]
  },
  {
   "cell_type": "code",
   "execution_count": 130,
   "metadata": {},
   "outputs": [
    {
     "name": "stdout",
     "output_type": "stream",
     "text": [
      "True\n"
     ]
    }
   ],
   "source": [
    "for i in sampleDict.values():\n",
    "    if i== 200:\n",
    "        print('True')"
   ]
  },
  {
   "cell_type": "markdown",
   "metadata": {},
   "source": [
    "#### Rename key city to location in the following dictionary\n"
   ]
  },
  {
   "cell_type": "code",
   "execution_count": 139,
   "metadata": {},
   "outputs": [],
   "source": [
    "sampleDict = {\n",
    "  \"name\": \"Vishnu\",\n",
    "  \"age\":22,\n",
    "  \"salary\": 80000,\n",
    "  \"city\": \"Mumbai\"\n",
    "}\n"
   ]
  },
  {
   "cell_type": "code",
   "execution_count": 140,
   "metadata": {},
   "outputs": [
    {
     "name": "stdout",
     "output_type": "stream",
     "text": [
      "{'name': 'Vishnu', 'age': 22, 'salary': 80000, 'Location': 'Mumbai'}\n"
     ]
    }
   ],
   "source": [
    "sampleDict['Location'] = sampleDict.pop(\"city\")\n",
    "print(sampleDict)"
   ]
  },
  {
   "cell_type": "markdown",
   "metadata": {},
   "source": [
    "#### Get the key corresponding to the minimum value from the following dictionary"
   ]
  },
  {
   "cell_type": "code",
   "execution_count": 173,
   "metadata": {},
   "outputs": [],
   "source": [
    "sampleDict = {\n",
    "  'Physics': 82,\n",
    "  'Math': 65,\n",
    "  'history': 75\n",
    "}"
   ]
  },
  {
   "cell_type": "code",
   "execution_count": null,
   "metadata": {},
   "outputs": [],
   "source": [
    "\n",
    "    "
   ]
  },
  {
   "cell_type": "markdown",
   "metadata": {},
   "source": [
    "#### Given a Python dictionary, Change Brad’s salary to 8500"
   ]
  },
  {
   "cell_type": "code",
   "execution_count": 165,
   "metadata": {},
   "outputs": [],
   "source": [
    "sample_dict = {\n",
    "     'emp1': {'name': 'mayur', 'salary': 75000},\n",
    "     'emp2': {'name': 'nikhil', 'salary': 80000},\n",
    "     'emp3': {'name': 'sanket', 'salary': 65000}\n",
    "}"
   ]
  },
  {
   "cell_type": "code",
   "execution_count": 167,
   "metadata": {},
   "outputs": [
    {
     "name": "stdout",
     "output_type": "stream",
     "text": [
      "{'emp1': {'name': 'mayur', 'salary': 75000}, 'emp2': {'name': 'nikhil', 'salary': 80000}, 'emp3': {'name': 'sanket', 'salary': 8500}}\n"
     ]
    }
   ],
   "source": [
    "sample_dict['emp3']['salary']=8500\n",
    "print(sample_dict)"
   ]
  },
  {
   "cell_type": "code",
   "execution_count": null,
   "metadata": {},
   "outputs": [],
   "source": []
  }
 ],
 "metadata": {
  "kernelspec": {
   "display_name": "Python 3",
   "language": "python",
   "name": "python3"
  },
  "language_info": {
   "codemirror_mode": {
    "name": "ipython",
    "version": 3
   },
   "file_extension": ".py",
   "mimetype": "text/x-python",
   "name": "python",
   "nbconvert_exporter": "python",
   "pygments_lexer": "ipython3",
   "version": "3.8.5"
  }
 },
 "nbformat": 4,
 "nbformat_minor": 2
}
