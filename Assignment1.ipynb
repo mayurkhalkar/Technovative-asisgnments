{
 "cells": [
  {
   "cell_type": "markdown",
   "metadata": {},
   "source": [
    "### code for aceepting the first name and last name and print them in reverse order."
   ]
  },
  {
   "cell_type": "code",
   "execution_count": 2,
   "metadata": {
    "scrolled": true
   },
   "outputs": [
    {
     "name": "stdout",
     "output_type": "stream",
     "text": [
      "Enter The First Name : Mayur \n",
      "Enter The Last Name : Khalkar\n",
      "Last Name & First name In Reversed Order : raklahK  ruyaM\n"
     ]
    }
   ],
   "source": [
    "first_name = input(\"Enter The First Name : \")\n",
    "last_name = input(\"Enter The Last Name : \")\n",
    "print(\"Last Name & First name In Reversed Order :\",last_name[::-1],first_name[::-1])"
   ]
  },
  {
   "cell_type": "markdown",
   "metadata": {},
   "source": [
    "### Whether no is Even/  Odd Number\n"
   ]
  },
  {
   "cell_type": "code",
   "execution_count": 4,
   "metadata": {},
   "outputs": [
    {
     "name": "stdout",
     "output_type": "stream",
     "text": [
      "Enter The No :8\n",
      "No 8 is even Number\n"
     ]
    }
   ],
   "source": [
    "num = int(input(\"Enter The No :\"))\n",
    "if num % 2 == 0 :\n",
    "    print(\"No\",num,\"is even Number\")\n",
    "else:\n",
    "    print(\"No\",num,\"is odd Number\")\n",
    "    "
   ]
  },
  {
   "cell_type": "markdown",
   "metadata": {},
   "source": [
    "### Vowel Or Not"
   ]
  },
  {
   "cell_type": "code",
   "execution_count": 3,
   "metadata": {},
   "outputs": [
    {
     "name": "stdout",
     "output_type": "stream",
     "text": [
      "Enter Letter :a\n",
      "a Is Vowel\n"
     ]
    }
   ],
   "source": [
    "l = input(\"Enter Letter :\")\n",
    "\n",
    "if(l=='a' or l=='e'or l=='i'or l=='o'or l=='u' ):\n",
    "    print(l,\"Is Vowel\")\n",
    "else:\n",
    "    print(l,\"is not Vowel\")\n",
    "    "
   ]
  },
  {
   "cell_type": "markdown",
   "metadata": {},
   "source": [
    "###  accept +ve digit and compute like for.eg 5+55+555 =615"
   ]
  },
  {
   "cell_type": "code",
   "execution_count": 6,
   "metadata": {},
   "outputs": [
    {
     "name": "stdout",
     "output_type": "stream",
     "text": [
      "Enter Positive Number5\n",
      "615\n"
     ]
    }
   ],
   "source": [
    "num =int(input(\"Enter Positive Number\"))\n",
    "if(num<0):\n",
    "    print(\"please Enter Positive Number \")\n",
    "else:\n",
    "    res = (num + ((num*10)+num) + ((num*100)+(num*10)+num))\n",
    "    print(res)      "
   ]
  },
  {
   "cell_type": "markdown",
   "metadata": {},
   "source": [
    "### return true if two value same ,diff is 5 and sum is also 5\n"
   ]
  },
  {
   "cell_type": "code",
   "execution_count": 2,
   "metadata": {},
   "outputs": [
    {
     "name": "stdout",
     "output_type": "stream",
     "text": [
      "enter 1st value :5\n",
      "enter 2nd value :5\n"
     ]
    },
    {
     "data": {
      "text/plain": [
       "True"
      ]
     },
     "execution_count": 2,
     "metadata": {},
     "output_type": "execute_result"
    }
   ],
   "source": [
    "a=int(input(\"enter 1st value :\"))\n",
    "b=int(input(\"enter 2nd value :\"))\n",
    "\n",
    "def ret(x,y):\n",
    "    if(x==y or x-y==5 or x+y==5):\n",
    "        return True\n",
    "    else:\n",
    "        return False\n",
    "ret(a,b)"
   ]
  },
  {
   "cell_type": "markdown",
   "metadata": {},
   "source": [
    "### 10 string w3resources \n"
   ]
  },
  {
   "cell_type": "code",
   "execution_count": 3,
   "metadata": {},
   "outputs": [
    {
     "name": "stdout",
     "output_type": "stream",
     "text": [
      "Enter String :w3resource\n",
      "w3ce\n"
     ]
    }
   ],
   "source": [
    "s = input(\"Enter String :\")\n",
    "l = len(s)\n",
    "if l== 1:\n",
    "    print(\"Empty String\")\n",
    "elif l <= 2:\n",
    "    print(s[0]+s[1]+s[-2]+s[-1])\n",
    "else:\n",
    "    print(s[0]+s[1]+s[-2]+s[-1])"
   ]
  },
  {
   "cell_type": "markdown",
   "metadata": {},
   "source": [
    "### 9. Sample Intrest Calculation's"
   ]
  },
  {
   "cell_type": "code",
   "execution_count": 6,
   "metadata": {},
   "outputs": [
    {
     "name": "stdout",
     "output_type": "stream",
     "text": [
      "enter Principal :15000\n",
      "enter rate :9\n",
      "enter time in year :5\n",
      "Sample Intrest Is : 6750.0\n"
     ]
    }
   ],
   "source": [
    "pri = int(input(\"enter Principal :\"))\n",
    "rate = float(input(\"enter rate :\"))\n",
    "time = int(input(\"enter time in year :\"))\n",
    "sample_int=(pri*rate*time)/100\n",
    "print(\"Sample Intrest Is :\",sample_int)\n"
   ]
  },
  {
   "cell_type": "markdown",
   "metadata": {},
   "source": [
    "#### Show Calender By taking user input "
   ]
  },
  {
   "cell_type": "code",
   "execution_count": 7,
   "metadata": {
    "scrolled": true
   },
   "outputs": [
    {
     "name": "stdout",
     "output_type": "stream",
     "text": [
      "Enter Year :2020\n",
      "enter Month :9\n",
      "   September 2020\n",
      "Mo Tu We Th Fr Sa Su\n",
      "    1  2  3  4  5  6\n",
      " 7  8  9 10 11 12 13\n",
      "14 15 16 17 18 19 20\n",
      "21 22 23 24 25 26 27\n",
      "28 29 30\n",
      "\n"
     ]
    }
   ],
   "source": [
    "import calendar\n",
    "year = input(\"Enter Year :\")\n",
    "month = input(\"enter Month :\")\n",
    "print(calendar.month(int(year), int(month))) "
   ]
  },
  {
   "cell_type": "code",
   "execution_count": null,
   "metadata": {},
   "outputs": [],
   "source": []
  },
  {
   "cell_type": "code",
   "execution_count": null,
   "metadata": {},
   "outputs": [],
   "source": []
  }
 ],
 "metadata": {
  "kernelspec": {
   "display_name": "Python 3",
   "language": "python",
   "name": "python3"
  },
  "language_info": {
   "codemirror_mode": {
    "name": "ipython",
    "version": 3
   },
   "file_extension": ".py",
   "mimetype": "text/x-python",
   "name": "python",
   "nbconvert_exporter": "python",
   "pygments_lexer": "ipython3",
   "version": "3.8.5"
  }
 },
 "nbformat": 4,
 "nbformat_minor": 4
}
